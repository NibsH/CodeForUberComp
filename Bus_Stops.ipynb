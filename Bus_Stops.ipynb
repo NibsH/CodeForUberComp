{
 "cells": [
  {
   "cell_type": "code",
   "execution_count": 46,
   "id": "5bce6cbe",
   "metadata": {},
   "outputs": [],
   "source": [
    "import pandas as pd\n",
    "import numpy as np\n",
    "import seaborn as sns\n",
    "import matplotlib.pyplot as plt\n",
    "\n"
   ]
  },
  {
   "cell_type": "code",
   "execution_count": 47,
   "id": "106584b1",
   "metadata": {},
   "outputs": [],
   "source": [
    "df = pd.read_csv(r\"C:\\Users\\kavya\\Downloads\\Barcelona data sets-20230914T005509Z-001\\Barcelona data sets\\transports.csv\")"
   ]
  },
  {
   "cell_type": "code",
   "execution_count": 48,
   "id": "9be13c97",
   "metadata": {},
   "outputs": [
    {
     "data": {
      "text/plain": [
       "(651, 7)"
      ]
     },
     "execution_count": 48,
     "metadata": {},
     "output_type": "execute_result"
    }
   ],
   "source": [
    "nrow, ncol = df.shape\n",
    "nrow, ncol"
   ]
  },
  {
   "cell_type": "code",
   "execution_count": 49,
   "id": "7f81a60a",
   "metadata": {},
   "outputs": [
    {
     "data": {
      "text/html": [
       "<div>\n",
       "<style scoped>\n",
       "    .dataframe tbody tr th:only-of-type {\n",
       "        vertical-align: middle;\n",
       "    }\n",
       "\n",
       "    .dataframe tbody tr th {\n",
       "        vertical-align: top;\n",
       "    }\n",
       "\n",
       "    .dataframe thead th {\n",
       "        text-align: right;\n",
       "    }\n",
       "</style>\n",
       "<table border=\"1\" class=\"dataframe\">\n",
       "  <thead>\n",
       "    <tr style=\"text-align: right;\">\n",
       "      <th></th>\n",
       "      <th>Code</th>\n",
       "      <th>Transport</th>\n",
       "      <th>Longitude</th>\n",
       "      <th>Latitude</th>\n",
       "      <th>Station</th>\n",
       "      <th>District.Name</th>\n",
       "      <th>Neighborhood.Name</th>\n",
       "    </tr>\n",
       "  </thead>\n",
       "  <tbody>\n",
       "    <tr>\n",
       "      <th>0</th>\n",
       "      <td>K001</td>\n",
       "      <td>Underground</td>\n",
       "      <td>2.119370</td>\n",
       "      <td>41.399203</td>\n",
       "      <td>FGC (L6) - REINA ELISENDA (Sortida Duquesa d'O...</td>\n",
       "      <td>Sarrià-Sant Gervasi</td>\n",
       "      <td>Sarrià</td>\n",
       "    </tr>\n",
       "    <tr>\n",
       "      <th>1</th>\n",
       "      <td>K001</td>\n",
       "      <td>Underground</td>\n",
       "      <td>2.135427</td>\n",
       "      <td>41.397791</td>\n",
       "      <td>FGC (L6) - LA BONANOVA-</td>\n",
       "      <td>Sarrià-Sant Gervasi</td>\n",
       "      <td>Sant Gervasi - Galvany</td>\n",
       "    </tr>\n",
       "    <tr>\n",
       "      <th>2</th>\n",
       "      <td>K001</td>\n",
       "      <td>Underground</td>\n",
       "      <td>2.185391</td>\n",
       "      <td>41.451492</td>\n",
       "      <td>METRO (L11) - CASA DE L'AIGUA (C. Vila-Real)-</td>\n",
       "      <td>Nou Barris</td>\n",
       "      <td>la Trinitat Nova</td>\n",
       "    </tr>\n",
       "    <tr>\n",
       "      <th>3</th>\n",
       "      <td>K001</td>\n",
       "      <td>Underground</td>\n",
       "      <td>2.174473</td>\n",
       "      <td>41.460889</td>\n",
       "      <td>METRO (L11) - CIUTAT MERIDIANA (C. Pedraforca)-</td>\n",
       "      <td>Nou Barris</td>\n",
       "      <td>Ciutat Meridiana</td>\n",
       "    </tr>\n",
       "    <tr>\n",
       "      <th>4</th>\n",
       "      <td>K001</td>\n",
       "      <td>Underground</td>\n",
       "      <td>2.168588</td>\n",
       "      <td>41.387200</td>\n",
       "      <td>METRO (L1) - CATALUNYA (Rda. Universitat)-</td>\n",
       "      <td>Eixample</td>\n",
       "      <td>la Dreta de l'Eixample</td>\n",
       "    </tr>\n",
       "  </tbody>\n",
       "</table>\n",
       "</div>"
      ],
      "text/plain": [
       "   Code    Transport  Longitude   Latitude  \\\n",
       "0  K001  Underground   2.119370  41.399203   \n",
       "1  K001  Underground   2.135427  41.397791   \n",
       "2  K001  Underground   2.185391  41.451492   \n",
       "3  K001  Underground   2.174473  41.460889   \n",
       "4  K001  Underground   2.168588  41.387200   \n",
       "\n",
       "                                             Station        District.Name  \\\n",
       "0  FGC (L6) - REINA ELISENDA (Sortida Duquesa d'O...  Sarrià-Sant Gervasi   \n",
       "1                            FGC (L6) - LA BONANOVA-  Sarrià-Sant Gervasi   \n",
       "2      METRO (L11) - CASA DE L'AIGUA (C. Vila-Real)-           Nou Barris   \n",
       "3    METRO (L11) - CIUTAT MERIDIANA (C. Pedraforca)-           Nou Barris   \n",
       "4         METRO (L1) - CATALUNYA (Rda. Universitat)-             Eixample   \n",
       "\n",
       "        Neighborhood.Name  \n",
       "0                  Sarrià  \n",
       "1  Sant Gervasi - Galvany  \n",
       "2        la Trinitat Nova  \n",
       "3        Ciutat Meridiana  \n",
       "4  la Dreta de l'Eixample  "
      ]
     },
     "execution_count": 49,
     "metadata": {},
     "output_type": "execute_result"
    }
   ],
   "source": [
    "\n",
    "df.head()"
   ]
  },
  {
   "cell_type": "code",
   "execution_count": 50,
   "id": "de750b33",
   "metadata": {},
   "outputs": [
    {
     "data": {
      "text/html": [
       "<div>\n",
       "<style scoped>\n",
       "    .dataframe tbody tr th:only-of-type {\n",
       "        vertical-align: middle;\n",
       "    }\n",
       "\n",
       "    .dataframe tbody tr th {\n",
       "        vertical-align: top;\n",
       "    }\n",
       "\n",
       "    .dataframe thead th {\n",
       "        text-align: right;\n",
       "    }\n",
       "</style>\n",
       "<table border=\"1\" class=\"dataframe\">\n",
       "  <thead>\n",
       "    <tr style=\"text-align: right;\">\n",
       "      <th></th>\n",
       "      <th>Code</th>\n",
       "      <th>Transport</th>\n",
       "      <th>Longitude</th>\n",
       "      <th>Latitude</th>\n",
       "      <th>Station</th>\n",
       "      <th>District.Name</th>\n",
       "      <th>Neighborhood.Name</th>\n",
       "    </tr>\n",
       "  </thead>\n",
       "  <tbody>\n",
       "    <tr>\n",
       "      <th>0</th>\n",
       "      <td>K001</td>\n",
       "      <td>Underground</td>\n",
       "      <td>2.119370</td>\n",
       "      <td>41.399203</td>\n",
       "      <td>FGC (L6) - REINA ELISENDA (Sortida Duquesa d'O...</td>\n",
       "      <td>Sarrià-Sant Gervasi</td>\n",
       "      <td>Sarrià</td>\n",
       "    </tr>\n",
       "    <tr>\n",
       "      <th>1</th>\n",
       "      <td>K001</td>\n",
       "      <td>Underground</td>\n",
       "      <td>2.135427</td>\n",
       "      <td>41.397791</td>\n",
       "      <td>FGC (L6) - LA BONANOVA-</td>\n",
       "      <td>Sarrià-Sant Gervasi</td>\n",
       "      <td>Sant Gervasi - Galvany</td>\n",
       "    </tr>\n",
       "    <tr>\n",
       "      <th>2</th>\n",
       "      <td>K001</td>\n",
       "      <td>Underground</td>\n",
       "      <td>2.185391</td>\n",
       "      <td>41.451492</td>\n",
       "      <td>METRO (L11) - CASA DE L'AIGUA (C. Vila-Real)-</td>\n",
       "      <td>Nou Barris</td>\n",
       "      <td>la Trinitat Nova</td>\n",
       "    </tr>\n",
       "    <tr>\n",
       "      <th>3</th>\n",
       "      <td>K001</td>\n",
       "      <td>Underground</td>\n",
       "      <td>2.174473</td>\n",
       "      <td>41.460889</td>\n",
       "      <td>METRO (L11) - CIUTAT MERIDIANA (C. Pedraforca)-</td>\n",
       "      <td>Nou Barris</td>\n",
       "      <td>Ciutat Meridiana</td>\n",
       "    </tr>\n",
       "    <tr>\n",
       "      <th>4</th>\n",
       "      <td>K001</td>\n",
       "      <td>Underground</td>\n",
       "      <td>2.168588</td>\n",
       "      <td>41.387200</td>\n",
       "      <td>METRO (L1) - CATALUNYA (Rda. Universitat)-</td>\n",
       "      <td>Eixample</td>\n",
       "      <td>la Dreta de l'Eixample</td>\n",
       "    </tr>\n",
       "    <tr>\n",
       "      <th>5</th>\n",
       "      <td>K001</td>\n",
       "      <td>Underground</td>\n",
       "      <td>2.168507</td>\n",
       "      <td>41.387706</td>\n",
       "      <td>METRO (L1) - CATALUNYA (Rambla de Catalunya)-</td>\n",
       "      <td>Eixample</td>\n",
       "      <td>la Dreta de l'Eixample</td>\n",
       "    </tr>\n",
       "    <tr>\n",
       "      <th>6</th>\n",
       "      <td>K001</td>\n",
       "      <td>Underground</td>\n",
       "      <td>2.118998</td>\n",
       "      <td>41.398967</td>\n",
       "      <td>FGC (L6) - REINA ELISENDA-</td>\n",
       "      <td>Sarrià-Sant Gervasi</td>\n",
       "      <td>Sarrià</td>\n",
       "    </tr>\n",
       "    <tr>\n",
       "      <th>7</th>\n",
       "      <td>K001</td>\n",
       "      <td>Underground</td>\n",
       "      <td>2.083994</td>\n",
       "      <td>41.362753</td>\n",
       "      <td>METRO (L5) - SANT ILDEFONS-</td>\n",
       "      <td>NaN</td>\n",
       "      <td>NaN</td>\n",
       "    </tr>\n",
       "    <tr>\n",
       "      <th>8</th>\n",
       "      <td>K001</td>\n",
       "      <td>Underground</td>\n",
       "      <td>2.142987</td>\n",
       "      <td>41.424923</td>\n",
       "      <td>METRO (L3, L5) - VALL D'HEBRON (C. de les Bass...</td>\n",
       "      <td>Horta-Guinardó</td>\n",
       "      <td>la Vall d'Hebron</td>\n",
       "    </tr>\n",
       "    <tr>\n",
       "      <th>9</th>\n",
       "      <td>K002</td>\n",
       "      <td>Railway (FGC)</td>\n",
       "      <td>2.158326</td>\n",
       "      <td>41.392331</td>\n",
       "      <td>FGC - PROVENÇA (C. de Provença)-</td>\n",
       "      <td>Eixample</td>\n",
       "      <td>l'Antiga Esquerra de l'Eixample</td>\n",
       "    </tr>\n",
       "    <tr>\n",
       "      <th>10</th>\n",
       "      <td>K001</td>\n",
       "      <td>Underground</td>\n",
       "      <td>2.100302</td>\n",
       "      <td>41.362977</td>\n",
       "      <td>METRO (L1) - RAMBLA JUST OLIVERAS-</td>\n",
       "      <td>NaN</td>\n",
       "      <td>NaN</td>\n",
       "    </tr>\n",
       "    <tr>\n",
       "      <th>11</th>\n",
       "      <td>K001</td>\n",
       "      <td>Underground</td>\n",
       "      <td>2.179581</td>\n",
       "      <td>41.400180</td>\n",
       "      <td>METRO (L2) - MONUMENTAL (C. de la Marina)-</td>\n",
       "      <td>Eixample</td>\n",
       "      <td>el Fort Pienc</td>\n",
       "    </tr>\n",
       "    <tr>\n",
       "      <th>12</th>\n",
       "      <td>K001</td>\n",
       "      <td>Underground</td>\n",
       "      <td>2.153966</td>\n",
       "      <td>41.379070</td>\n",
       "      <td>METRO (L1) - ROCAFORT (C. de Rocafort)-</td>\n",
       "      <td>Eixample</td>\n",
       "      <td>la Nova Esquerra de l'Eixample</td>\n",
       "    </tr>\n",
       "    <tr>\n",
       "      <th>13</th>\n",
       "      <td>K001</td>\n",
       "      <td>Underground</td>\n",
       "      <td>2.168735</td>\n",
       "      <td>41.389295</td>\n",
       "      <td>METRO (L2) - PASSEIG DE GRÀCIA (Pg. de Gràcia)-</td>\n",
       "      <td>Eixample</td>\n",
       "      <td>la Dreta de l'Eixample</td>\n",
       "    </tr>\n",
       "    <tr>\n",
       "      <th>14</th>\n",
       "      <td>K001</td>\n",
       "      <td>Underground</td>\n",
       "      <td>2.161228</td>\n",
       "      <td>41.430042</td>\n",
       "      <td>METRO (L5) - HORTA (Pl. d'Eivissa)-</td>\n",
       "      <td>Horta-Guinardó</td>\n",
       "      <td>Horta</td>\n",
       "    </tr>\n",
       "    <tr>\n",
       "      <th>15</th>\n",
       "      <td>K011</td>\n",
       "      <td>Tram</td>\n",
       "      <td>2.098896</td>\n",
       "      <td>41.376486</td>\n",
       "      <td>TRAMVIA (T1,T2,T3) - CA N'OLIVERES-</td>\n",
       "      <td>NaN</td>\n",
       "      <td>NaN</td>\n",
       "    </tr>\n",
       "    <tr>\n",
       "      <th>16</th>\n",
       "      <td>K001</td>\n",
       "      <td>Underground</td>\n",
       "      <td>2.133190</td>\n",
       "      <td>41.373293</td>\n",
       "      <td>METRO (L1) - MERCAT NOU (C. d'Antoni de Capmany)-</td>\n",
       "      <td>Sants-Montjuïc</td>\n",
       "      <td>Sants</td>\n",
       "    </tr>\n",
       "    <tr>\n",
       "      <th>17</th>\n",
       "      <td>K001</td>\n",
       "      <td>Underground</td>\n",
       "      <td>2.145478</td>\n",
       "      <td>41.378565</td>\n",
       "      <td>METRO (L3) - TARRAGONA-</td>\n",
       "      <td>Eixample</td>\n",
       "      <td>la Nova Esquerra de l'Eixample</td>\n",
       "    </tr>\n",
       "    <tr>\n",
       "      <th>18</th>\n",
       "      <td>K001</td>\n",
       "      <td>Underground</td>\n",
       "      <td>2.147798</td>\n",
       "      <td>41.434855</td>\n",
       "      <td>METRO (L3) - MUNDET (Can Marcet)-</td>\n",
       "      <td>Horta-Guinardó</td>\n",
       "      <td>la Vall d'Hebron</td>\n",
       "    </tr>\n",
       "    <tr>\n",
       "      <th>19</th>\n",
       "      <td>K001</td>\n",
       "      <td>Underground</td>\n",
       "      <td>2.148557</td>\n",
       "      <td>41.435325</td>\n",
       "      <td>METRO (L3) - MUNDET (Can Marcet)-</td>\n",
       "      <td>Horta-Guinardó</td>\n",
       "      <td>la Vall d'Hebron</td>\n",
       "    </tr>\n",
       "  </tbody>\n",
       "</table>\n",
       "</div>"
      ],
      "text/plain": [
       "    Code      Transport  Longitude   Latitude  \\\n",
       "0   K001    Underground   2.119370  41.399203   \n",
       "1   K001    Underground   2.135427  41.397791   \n",
       "2   K001    Underground   2.185391  41.451492   \n",
       "3   K001    Underground   2.174473  41.460889   \n",
       "4   K001    Underground   2.168588  41.387200   \n",
       "5   K001    Underground   2.168507  41.387706   \n",
       "6   K001    Underground   2.118998  41.398967   \n",
       "7   K001    Underground   2.083994  41.362753   \n",
       "8   K001    Underground   2.142987  41.424923   \n",
       "9   K002  Railway (FGC)   2.158326  41.392331   \n",
       "10  K001    Underground   2.100302  41.362977   \n",
       "11  K001    Underground   2.179581  41.400180   \n",
       "12  K001    Underground   2.153966  41.379070   \n",
       "13  K001    Underground   2.168735  41.389295   \n",
       "14  K001    Underground   2.161228  41.430042   \n",
       "15  K011           Tram   2.098896  41.376486   \n",
       "16  K001    Underground   2.133190  41.373293   \n",
       "17  K001    Underground   2.145478  41.378565   \n",
       "18  K001    Underground   2.147798  41.434855   \n",
       "19  K001    Underground   2.148557  41.435325   \n",
       "\n",
       "                                              Station        District.Name  \\\n",
       "0   FGC (L6) - REINA ELISENDA (Sortida Duquesa d'O...  Sarrià-Sant Gervasi   \n",
       "1                             FGC (L6) - LA BONANOVA-  Sarrià-Sant Gervasi   \n",
       "2       METRO (L11) - CASA DE L'AIGUA (C. Vila-Real)-           Nou Barris   \n",
       "3     METRO (L11) - CIUTAT MERIDIANA (C. Pedraforca)-           Nou Barris   \n",
       "4          METRO (L1) - CATALUNYA (Rda. Universitat)-             Eixample   \n",
       "5       METRO (L1) - CATALUNYA (Rambla de Catalunya)-             Eixample   \n",
       "6                          FGC (L6) - REINA ELISENDA-  Sarrià-Sant Gervasi   \n",
       "7                         METRO (L5) - SANT ILDEFONS-                  NaN   \n",
       "8   METRO (L3, L5) - VALL D'HEBRON (C. de les Bass...       Horta-Guinardó   \n",
       "9                    FGC - PROVENÇA (C. de Provença)-             Eixample   \n",
       "10                 METRO (L1) - RAMBLA JUST OLIVERAS-                  NaN   \n",
       "11         METRO (L2) - MONUMENTAL (C. de la Marina)-             Eixample   \n",
       "12            METRO (L1) - ROCAFORT (C. de Rocafort)-             Eixample   \n",
       "13    METRO (L2) - PASSEIG DE GRÀCIA (Pg. de Gràcia)-             Eixample   \n",
       "14                METRO (L5) - HORTA (Pl. d'Eivissa)-       Horta-Guinardó   \n",
       "15                TRAMVIA (T1,T2,T3) - CA N'OLIVERES-                  NaN   \n",
       "16  METRO (L1) - MERCAT NOU (C. d'Antoni de Capmany)-       Sants-Montjuïc   \n",
       "17                            METRO (L3) - TARRAGONA-             Eixample   \n",
       "18                  METRO (L3) - MUNDET (Can Marcet)-       Horta-Guinardó   \n",
       "19                  METRO (L3) - MUNDET (Can Marcet)-       Horta-Guinardó   \n",
       "\n",
       "                  Neighborhood.Name  \n",
       "0                            Sarrià  \n",
       "1            Sant Gervasi - Galvany  \n",
       "2                  la Trinitat Nova  \n",
       "3                  Ciutat Meridiana  \n",
       "4            la Dreta de l'Eixample  \n",
       "5            la Dreta de l'Eixample  \n",
       "6                            Sarrià  \n",
       "7                               NaN  \n",
       "8                  la Vall d'Hebron  \n",
       "9   l'Antiga Esquerra de l'Eixample  \n",
       "10                              NaN  \n",
       "11                    el Fort Pienc  \n",
       "12   la Nova Esquerra de l'Eixample  \n",
       "13           la Dreta de l'Eixample  \n",
       "14                            Horta  \n",
       "15                              NaN  \n",
       "16                            Sants  \n",
       "17   la Nova Esquerra de l'Eixample  \n",
       "18                 la Vall d'Hebron  \n",
       "19                 la Vall d'Hebron  "
      ]
     },
     "execution_count": 50,
     "metadata": {},
     "output_type": "execute_result"
    }
   ],
   "source": [
    "df.head(20)"
   ]
  },
  {
   "cell_type": "code",
   "execution_count": 51,
   "id": "a256e7da",
   "metadata": {},
   "outputs": [
    {
     "data": {
      "text/plain": [
       "Code                  object\n",
       "Transport             object\n",
       "Longitude            float64\n",
       "Latitude             float64\n",
       "Station               object\n",
       "District.Name         object\n",
       "Neighborhood.Name     object\n",
       "dtype: object"
      ]
     },
     "execution_count": 51,
     "metadata": {},
     "output_type": "execute_result"
    }
   ],
   "source": [
    "df.dtypes"
   ]
  },
  {
   "cell_type": "code",
   "execution_count": null,
   "id": "ed640773",
   "metadata": {},
   "outputs": [],
   "source": [
    "\n"
   ]
  },
  {
   "cell_type": "code",
   "execution_count": 8,
   "id": "f7a912d8",
   "metadata": {},
   "outputs": [
    {
     "name": "stdout",
     "output_type": "stream",
     "text": [
      "<class 'pandas.core.frame.DataFrame'>\n",
      "RangeIndex: 3162 entries, 0 to 3161\n",
      "Data columns (total 7 columns):\n",
      " #   Column             Non-Null Count  Dtype  \n",
      "---  ------             --------------  -----  \n",
      " 0   Code               3162 non-null   object \n",
      " 1   Transport          3162 non-null   object \n",
      " 2   Longitude          3162 non-null   float64\n",
      " 3   Latitude           3162 non-null   float64\n",
      " 4   Bus.Stop           3162 non-null   object \n",
      " 5   District.Name      3146 non-null   object \n",
      " 6   Neighborhood.Name  3146 non-null   object \n",
      "dtypes: float64(2), object(5)\n",
      "memory usage: 173.0+ KB\n"
     ]
    }
   ],
   "source": [
    "df.info()\n"
   ]
  },
  {
   "cell_type": "code",
   "execution_count": 10,
   "id": "8dac7061",
   "metadata": {},
   "outputs": [
    {
     "data": {
      "text/plain": [
       "(3162, 7)"
      ]
     },
     "execution_count": 10,
     "metadata": {},
     "output_type": "execute_result"
    }
   ],
   "source": [
    "df.shape"
   ]
  },
  {
   "cell_type": "code",
   "execution_count": 11,
   "id": "d1db1b0f",
   "metadata": {},
   "outputs": [
    {
     "data": {
      "text/plain": [
       "Code                 0.00000\n",
       "Transport            0.00000\n",
       "Longitude            0.00000\n",
       "Latitude             0.00000\n",
       "Bus.Stop             0.00000\n",
       "District.Name        0.00506\n",
       "Neighborhood.Name    0.00506\n",
       "dtype: float64"
      ]
     },
     "execution_count": 11,
     "metadata": {},
     "output_type": "execute_result"
    }
   ],
   "source": [
    "df.isna().sum()/df.shape[0]"
   ]
  },
  {
   "cell_type": "code",
   "execution_count": 12,
   "id": "6b6f81d2",
   "metadata": {},
   "outputs": [
    {
     "data": {
      "text/html": [
       "<div>\n",
       "<style scoped>\n",
       "    .dataframe tbody tr th:only-of-type {\n",
       "        vertical-align: middle;\n",
       "    }\n",
       "\n",
       "    .dataframe tbody tr th {\n",
       "        vertical-align: top;\n",
       "    }\n",
       "\n",
       "    .dataframe thead th {\n",
       "        text-align: right;\n",
       "    }\n",
       "</style>\n",
       "<table border=\"1\" class=\"dataframe\">\n",
       "  <thead>\n",
       "    <tr style=\"text-align: right;\">\n",
       "      <th></th>\n",
       "      <th>Longitude</th>\n",
       "      <th>Latitude</th>\n",
       "    </tr>\n",
       "  </thead>\n",
       "  <tbody>\n",
       "    <tr>\n",
       "      <th>count</th>\n",
       "      <td>3162.000000</td>\n",
       "      <td>3162.000000</td>\n",
       "    </tr>\n",
       "    <tr>\n",
       "      <th>mean</th>\n",
       "      <td>2.159824</td>\n",
       "      <td>41.405002</td>\n",
       "    </tr>\n",
       "    <tr>\n",
       "      <th>std</th>\n",
       "      <td>0.027898</td>\n",
       "      <td>0.027150</td>\n",
       "    </tr>\n",
       "    <tr>\n",
       "      <th>min</th>\n",
       "      <td>2.055835</td>\n",
       "      <td>41.321643</td>\n",
       "    </tr>\n",
       "    <tr>\n",
       "      <th>25%</th>\n",
       "      <td>2.140627</td>\n",
       "      <td>41.386903</td>\n",
       "    </tr>\n",
       "    <tr>\n",
       "      <th>50%</th>\n",
       "      <td>2.161103</td>\n",
       "      <td>41.405734</td>\n",
       "    </tr>\n",
       "    <tr>\n",
       "      <th>75%</th>\n",
       "      <td>2.180406</td>\n",
       "      <td>41.423526</td>\n",
       "    </tr>\n",
       "    <tr>\n",
       "      <th>max</th>\n",
       "      <td>2.221753</td>\n",
       "      <td>41.467592</td>\n",
       "    </tr>\n",
       "  </tbody>\n",
       "</table>\n",
       "</div>"
      ],
      "text/plain": [
       "         Longitude     Latitude\n",
       "count  3162.000000  3162.000000\n",
       "mean      2.159824    41.405002\n",
       "std       0.027898     0.027150\n",
       "min       2.055835    41.321643\n",
       "25%       2.140627    41.386903\n",
       "50%       2.161103    41.405734\n",
       "75%       2.180406    41.423526\n",
       "max       2.221753    41.467592"
      ]
     },
     "execution_count": 12,
     "metadata": {},
     "output_type": "execute_result"
    }
   ],
   "source": [
    "df.describe()"
   ]
  },
  {
   "cell_type": "code",
   "execution_count": 13,
   "id": "1808e64a",
   "metadata": {},
   "outputs": [
    {
     "data": {
      "text/plain": [
       "Day bus stop        2324\n",
       "Night bus stop       828\n",
       "Airport bus stop       7\n",
       "Bus station            3\n",
       "Name: Transport, dtype: int64"
      ]
     },
     "execution_count": 13,
     "metadata": {},
     "output_type": "execute_result"
    }
   ],
   "source": [
    "df['Transport'].value_counts()"
   ]
  },
  {
   "cell_type": "code",
   "execution_count": 53,
   "id": "7b98062b",
   "metadata": {},
   "outputs": [
    {
     "ename": "NameError",
     "evalue": "name 'cont_features' is not defined",
     "output_type": "error",
     "traceback": [
      "\u001b[1;31m---------------------------------------------------------------------------\u001b[0m",
      "\u001b[1;31mNameError\u001b[0m                                 Traceback (most recent call last)",
      "\u001b[1;32m~\\AppData\\Local\\Temp\\ipykernel_28540\\493184278.py\u001b[0m in \u001b[0;36m<module>\u001b[1;34m\u001b[0m\n\u001b[0;32m      1\u001b[0m \u001b[0mcont_feature\u001b[0m \u001b[1;33m=\u001b[0m \u001b[1;33m[\u001b[0m\u001b[1;34m'Transport'\u001b[0m\u001b[1;33m,\u001b[0m\u001b[1;34m'District.Name'\u001b[0m\u001b[1;33m,\u001b[0m\u001b[1;34m\"Neighborhood.Name\"\u001b[0m\u001b[1;33m]\u001b[0m\u001b[1;33m\u001b[0m\u001b[1;33m\u001b[0m\u001b[0m\n\u001b[1;32m----> 2\u001b[1;33m \u001b[0mdf\u001b[0m\u001b[1;33m.\u001b[0m\u001b[0mdrop\u001b[0m\u001b[1;33m(\u001b[0m\u001b[0mcont_features\u001b[0m\u001b[1;33m,\u001b[0m \u001b[0maxis\u001b[0m\u001b[1;33m=\u001b[0m\u001b[1;36m1\u001b[0m\u001b[1;33m,\u001b[0m \u001b[0minplace\u001b[0m\u001b[1;33m=\u001b[0m\u001b[1;32mTrue\u001b[0m\u001b[1;33m)\u001b[0m\u001b[1;33m\u001b[0m\u001b[1;33m\u001b[0m\u001b[0m\n\u001b[0m\u001b[0;32m      3\u001b[0m \u001b[0mdf\u001b[0m\u001b[1;33m.\u001b[0m\u001b[0mhead\u001b[0m\u001b[1;33m(\u001b[0m\u001b[1;33m)\u001b[0m\u001b[1;33m\u001b[0m\u001b[1;33m\u001b[0m\u001b[0m\n",
      "\u001b[1;31mNameError\u001b[0m: name 'cont_features' is not defined"
     ]
    }
   ],
   "source": [
    "cont_feature = ['Transport','District.Name',\"Neighborhood.Name\"]\n",
    "df.drop(cont_features, axis=1, inplace=True)\n",
    "df.head()"
   ]
  },
  {
   "cell_type": "code",
   "execution_count": 6,
   "id": "fab7b6cb",
   "metadata": {},
   "outputs": [
    {
     "data": {
      "text/html": [
       "<div>\n",
       "<style scoped>\n",
       "    .dataframe tbody tr th:only-of-type {\n",
       "        vertical-align: middle;\n",
       "    }\n",
       "\n",
       "    .dataframe tbody tr th {\n",
       "        vertical-align: top;\n",
       "    }\n",
       "\n",
       "    .dataframe thead th {\n",
       "        text-align: right;\n",
       "    }\n",
       "</style>\n",
       "<table border=\"1\" class=\"dataframe\">\n",
       "  <thead>\n",
       "    <tr style=\"text-align: right;\">\n",
       "      <th></th>\n",
       "      <th>Code</th>\n",
       "      <th>Transport</th>\n",
       "      <th>Bus.Stop</th>\n",
       "      <th>District.Name</th>\n",
       "      <th>Neighborhood.Name</th>\n",
       "    </tr>\n",
       "  </thead>\n",
       "  <tbody>\n",
       "    <tr>\n",
       "      <th>0</th>\n",
       "      <td>K014</td>\n",
       "      <td>Day bus stop</td>\n",
       "      <td>BUS -192--</td>\n",
       "      <td>Horta-Guinardó</td>\n",
       "      <td>el Guinardó</td>\n",
       "    </tr>\n",
       "    <tr>\n",
       "      <th>1</th>\n",
       "      <td>K014</td>\n",
       "      <td>Day bus stop</td>\n",
       "      <td>BUS -124--</td>\n",
       "      <td>Gràcia</td>\n",
       "      <td>Vallcarca i els Penitents</td>\n",
       "    </tr>\n",
       "  </tbody>\n",
       "</table>\n",
       "</div>"
      ],
      "text/plain": [
       "   Code     Transport    Bus.Stop   District.Name          Neighborhood.Name\n",
       "0  K014  Day bus stop  BUS -192--  Horta-Guinardó                el Guinardó\n",
       "1  K014  Day bus stop  BUS -124--          Gràcia  Vallcarca i els Penitents"
      ]
     },
     "execution_count": 6,
     "metadata": {},
     "output_type": "execute_result"
    }
   ],
   "source": [
    "ds_cat = df.select_dtypes(include = 'object').copy()\n",
    "ds_cat.head(2)"
   ]
  },
  {
   "cell_type": "code",
   "execution_count": 7,
   "id": "dc3e2c73",
   "metadata": {},
   "outputs": [
    {
     "data": {
      "text/plain": [
       "array(['Day bus stop', 'Night bus stop', 'Airport bus stop',\n",
       "       'Bus station'], dtype=object)"
      ]
     },
     "execution_count": 7,
     "metadata": {},
     "output_type": "execute_result"
    }
   ],
   "source": [
    "ds_cat['Transport'].unique()"
   ]
  },
  {
   "cell_type": "code",
   "execution_count": 8,
   "id": "8625ee43",
   "metadata": {},
   "outputs": [
    {
     "data": {
      "text/plain": [
       "4"
      ]
     },
     "execution_count": 8,
     "metadata": {},
     "output_type": "execute_result"
    }
   ],
   "source": [
    "len(ds_cat['Transport'].unique())"
   ]
  },
  {
   "cell_type": "code",
   "execution_count": 9,
   "id": "56d8611d",
   "metadata": {},
   "outputs": [
    {
     "data": {
      "text/plain": [
       "0"
      ]
     },
     "execution_count": 9,
     "metadata": {},
     "output_type": "execute_result"
    }
   ],
   "source": [
    "ds_cat['Transport'].isnull().sum()"
   ]
  },
  {
   "cell_type": "code",
   "execution_count": 10,
   "id": "0ec858a9",
   "metadata": {},
   "outputs": [
    {
     "data": {
      "text/plain": [
       "0.0"
      ]
     },
     "execution_count": 10,
     "metadata": {},
     "output_type": "execute_result"
    }
   ],
   "source": [
    "(ds_cat['Transport'].isnull().sum()/nrow).round(3)*100"
   ]
  },
  {
   "cell_type": "code",
   "execution_count": 52,
   "id": "b04ebca0",
   "metadata": {},
   "outputs": [
    {
     "data": {
      "text/plain": [
       "<AxesSubplot:xlabel='Transport', ylabel='count'>"
      ]
     },
     "execution_count": 52,
     "metadata": {},
     "output_type": "execute_result"
    },
    {
     "data": {
      "image/png": "[encoded data removed]",
      "text/plain": [
       "<Figure size 640x480 with 1 Axes>"
      ]
     },
     "metadata": {},
     "output_type": "display_data"
    }
   ],
   "source": [
    "sns.countplot(data = ds_cat, x = 'Transport')"
   ]
  },
  {
   "cell_type": "code",
   "execution_count": 13,
   "id": "b4c1050f",
   "metadata": {},
   "outputs": [
    {
     "data": {
      "text/plain": [
       "5"
      ]
     },
     "execution_count": 13,
     "metadata": {},
     "output_type": "execute_result"
    }
   ],
   "source": [
    "ds_cat['District.Name'] = df.loc[ds_cat.index, 'District.Name'].copy()\n",
    "len(ds_cat.columns)"
   ]
  },
  {
   "cell_type": "code",
   "execution_count": 14,
   "id": "b9093ea7",
   "metadata": {},
   "outputs": [
    {
     "ename": "TypeError",
     "evalue": "Neither the `x` nor `y` variable appears to be numeric.",
     "output_type": "error",
     "traceback": [
      "\u001b[1;31m---------------------------------------------------------------------------\u001b[0m",
      "\u001b[1;31mTypeError\u001b[0m                                 Traceback (most recent call last)",
      "\u001b[1;32m~\\AppData\\Local\\Temp\\ipykernel_28540\\3475773637.py\u001b[0m in \u001b[0;36m<module>\u001b[1;34m\u001b[0m\n\u001b[1;32m----> 1\u001b[1;33m \u001b[0msns\u001b[0m\u001b[1;33m.\u001b[0m\u001b[0mboxplot\u001b[0m\u001b[1;33m(\u001b[0m\u001b[0mdata\u001b[0m \u001b[1;33m=\u001b[0m \u001b[0mds_cat\u001b[0m\u001b[1;33m,\u001b[0m \u001b[0mx\u001b[0m\u001b[1;33m=\u001b[0m\u001b[1;34m'Transport'\u001b[0m\u001b[1;33m,\u001b[0m \u001b[0my\u001b[0m\u001b[1;33m=\u001b[0m\u001b[1;34m'District.Name'\u001b[0m\u001b[1;33m)\u001b[0m\u001b[1;33m\u001b[0m\u001b[1;33m\u001b[0m\u001b[0m\n\u001b[0m",
      "\u001b[1;32m~\\anaconda3\\lib\\site-packages\\seaborn\\_decorators.py\u001b[0m in \u001b[0;36minner_f\u001b[1;34m(*args, **kwargs)\u001b[0m\n\u001b[0;32m     44\u001b[0m             )\n\u001b[0;32m     45\u001b[0m         \u001b[0mkwargs\u001b[0m\u001b[1;33m.\u001b[0m\u001b[0mupdate\u001b[0m\u001b[1;33m(\u001b[0m\u001b[1;33m{\u001b[0m\u001b[0mk\u001b[0m\u001b[1;33m:\u001b[0m \u001b[0marg\u001b[0m \u001b[1;32mfor\u001b[0m \u001b[0mk\u001b[0m\u001b[1;33m,\u001b[0m \u001b[0marg\u001b[0m \u001b[1;32min\u001b[0m \u001b[0mzip\u001b[0m\u001b[1;33m(\u001b[0m\u001b[0msig\u001b[0m\u001b[1;33m.\u001b[0m\u001b[0mparameters\u001b[0m\u001b[1;33m,\u001b[0m \u001b[0margs\u001b[0m\u001b[1;33m)\u001b[0m\u001b[1;33m}\u001b[0m\u001b[1;33m)\u001b[0m\u001b[1;33m\u001b[0m\u001b[1;33m\u001b[0m\u001b[0m\n\u001b[1;32m---> 46\u001b[1;33m         \u001b[1;32mreturn\u001b[0m \u001b[0mf\u001b[0m\u001b[1;33m(\u001b[0m\u001b[1;33m**\u001b[0m\u001b[0mkwargs\u001b[0m\u001b[1;33m)\u001b[0m\u001b[1;33m\u001b[0m\u001b[1;33m\u001b[0m\u001b[0m\n\u001b[0m\u001b[0;32m     47\u001b[0m     \u001b[1;32mreturn\u001b[0m \u001b[0minner_f\u001b[0m\u001b[1;33m\u001b[0m\u001b[1;33m\u001b[0m\u001b[0m\n\u001b[0;32m     48\u001b[0m \u001b[1;33m\u001b[0m\u001b[0m\n",
      "\u001b[1;32m~\\anaconda3\\lib\\site-packages\\seaborn\\categorical.py\u001b[0m in \u001b[0;36mboxplot\u001b[1;34m(x, y, hue, data, order, hue_order, orient, color, palette, saturation, width, dodge, fliersize, linewidth, whis, ax, **kwargs)\u001b[0m\n\u001b[0;32m   2241\u001b[0m ):\n\u001b[0;32m   2242\u001b[0m \u001b[1;33m\u001b[0m\u001b[0m\n\u001b[1;32m-> 2243\u001b[1;33m     plotter = _BoxPlotter(x, y, hue, data, order, hue_order,\n\u001b[0m\u001b[0;32m   2244\u001b[0m                           \u001b[0morient\u001b[0m\u001b[1;33m,\u001b[0m \u001b[0mcolor\u001b[0m\u001b[1;33m,\u001b[0m \u001b[0mpalette\u001b[0m\u001b[1;33m,\u001b[0m \u001b[0msaturation\u001b[0m\u001b[1;33m,\u001b[0m\u001b[1;33m\u001b[0m\u001b[1;33m\u001b[0m\u001b[0m\n\u001b[0;32m   2245\u001b[0m                           width, dodge, fliersize, linewidth)\n",
      "\u001b[1;32m~\\anaconda3\\lib\\site-packages\\seaborn\\categorical.py\u001b[0m in \u001b[0;36m__init__\u001b[1;34m(self, x, y, hue, data, order, hue_order, orient, color, palette, saturation, width, dodge, fliersize, linewidth)\u001b[0m\n\u001b[0;32m    404\u001b[0m                  width, dodge, fliersize, linewidth):\n\u001b[0;32m    405\u001b[0m \u001b[1;33m\u001b[0m\u001b[0m\n\u001b[1;32m--> 406\u001b[1;33m         \u001b[0mself\u001b[0m\u001b[1;33m.\u001b[0m\u001b[0mestablish_variables\u001b[0m\u001b[1;33m(\u001b[0m\u001b[0mx\u001b[0m\u001b[1;33m,\u001b[0m \u001b[0my\u001b[0m\u001b[1;33m,\u001b[0m \u001b[0mhue\u001b[0m\u001b[1;33m,\u001b[0m \u001b[0mdata\u001b[0m\u001b[1;33m,\u001b[0m \u001b[0morient\u001b[0m\u001b[1;33m,\u001b[0m \u001b[0morder\u001b[0m\u001b[1;33m,\u001b[0m \u001b[0mhue_order\u001b[0m\u001b[1;33m)\u001b[0m\u001b[1;33m\u001b[0m\u001b[1;33m\u001b[0m\u001b[0m\n\u001b[0m\u001b[0;32m    407\u001b[0m         \u001b[0mself\u001b[0m\u001b[1;33m.\u001b[0m\u001b[0mestablish_colors\u001b[0m\u001b[1;33m(\u001b[0m\u001b[0mcolor\u001b[0m\u001b[1;33m,\u001b[0m \u001b[0mpalette\u001b[0m\u001b[1;33m,\u001b[0m \u001b[0msaturation\u001b[0m\u001b[1;33m)\u001b[0m\u001b[1;33m\u001b[0m\u001b[1;33m\u001b[0m\u001b[0m\n\u001b[0;32m    408\u001b[0m \u001b[1;33m\u001b[0m\u001b[0m\n",
      "\u001b[1;32m~\\anaconda3\\lib\\site-packages\\seaborn\\categorical.py\u001b[0m in \u001b[0;36mestablish_variables\u001b[1;34m(self, x, y, hue, data, orient, order, hue_order, units)\u001b[0m\n\u001b[0;32m    154\u001b[0m \u001b[1;33m\u001b[0m\u001b[0m\n\u001b[0;32m    155\u001b[0m             \u001b[1;31m# Figure out the plotting orientation\u001b[0m\u001b[1;33m\u001b[0m\u001b[1;33m\u001b[0m\u001b[0m\n\u001b[1;32m--> 156\u001b[1;33m             orient = infer_orient(\n\u001b[0m\u001b[0;32m    157\u001b[0m                 \u001b[0mx\u001b[0m\u001b[1;33m,\u001b[0m \u001b[0my\u001b[0m\u001b[1;33m,\u001b[0m \u001b[0morient\u001b[0m\u001b[1;33m,\u001b[0m \u001b[0mrequire_numeric\u001b[0m\u001b[1;33m=\u001b[0m\u001b[0mself\u001b[0m\u001b[1;33m.\u001b[0m\u001b[0mrequire_numeric\u001b[0m\u001b[1;33m\u001b[0m\u001b[1;33m\u001b[0m\u001b[0m\n\u001b[0;32m    158\u001b[0m             )\n",
      "\u001b[1;32m~\\anaconda3\\lib\\site-packages\\seaborn\\_core.py\u001b[0m in \u001b[0;36minfer_orient\u001b[1;34m(x, y, orient, require_numeric)\u001b[0m\n\u001b[0;32m   1350\u001b[0m     \u001b[1;32melif\u001b[0m \u001b[0mrequire_numeric\u001b[0m \u001b[1;32mand\u001b[0m \u001b[1;34m\"numeric\"\u001b[0m \u001b[1;32mnot\u001b[0m \u001b[1;32min\u001b[0m \u001b[1;33m(\u001b[0m\u001b[0mx_type\u001b[0m\u001b[1;33m,\u001b[0m \u001b[0my_type\u001b[0m\u001b[1;33m)\u001b[0m\u001b[1;33m:\u001b[0m\u001b[1;33m\u001b[0m\u001b[1;33m\u001b[0m\u001b[0m\n\u001b[0;32m   1351\u001b[0m         \u001b[0merr\u001b[0m \u001b[1;33m=\u001b[0m \u001b[1;34m\"Neither the `x` nor `y` variable appears to be numeric.\"\u001b[0m\u001b[1;33m\u001b[0m\u001b[1;33m\u001b[0m\u001b[0m\n\u001b[1;32m-> 1352\u001b[1;33m         \u001b[1;32mraise\u001b[0m \u001b[0mTypeError\u001b[0m\u001b[1;33m(\u001b[0m\u001b[0merr\u001b[0m\u001b[1;33m)\u001b[0m\u001b[1;33m\u001b[0m\u001b[1;33m\u001b[0m\u001b[0m\n\u001b[0m\u001b[0;32m   1353\u001b[0m \u001b[1;33m\u001b[0m\u001b[0m\n\u001b[0;32m   1354\u001b[0m     \u001b[1;32melse\u001b[0m\u001b[1;33m:\u001b[0m\u001b[1;33m\u001b[0m\u001b[1;33m\u001b[0m\u001b[0m\n",
      "\u001b[1;31mTypeError\u001b[0m: Neither the `x` nor `y` variable appears to be numeric."
     ]
    }
   ],
   "source": [
    "sns.boxplot(data = ds_cat, x='Transport', y='District.Name')"
   ]
  },
  {
   "cell_type": "code",
   "execution_count": 15,
   "id": "fdf23926",
   "metadata": {},
   "outputs": [
    {
     "data": {
      "text/plain": [
       "array(['Horta-Guinardó', 'Gràcia', 'Sarrià-Sant Gervasi', 'Sant Martí',\n",
       "       'Sants-Montjuïc', 'Ciutat Vella', 'Nou Barris', 'Les Corts',\n",
       "       'Eixample', 'Sant Andreu', nan], dtype=object)"
      ]
     },
     "execution_count": 15,
     "metadata": {},
     "output_type": "execute_result"
    }
   ],
   "source": [
    "ds_cat['District.Name'].unique()"
   ]
  },
  {
   "cell_type": "code",
   "execution_count": 42,
   "id": "a5944d45",
   "metadata": {},
   "outputs": [
    {
     "data": {
      "text/plain": [
       "Text(0.5, 1.0, 'Bus Stop Count by District')"
      ]
     },
     "execution_count": 42,
     "metadata": {},
     "output_type": "execute_result"
    },
    {
     "data": {
      "image/png": "[encoded data removed]",
      "text/plain": [
       "<Figure size 640x480 with 1 Axes>"
      ]
     },
     "metadata": {},
     "output_type": "display_data"
    }
   ],
   "source": [
    "sns.countplot(y = ds_cat[\"District.Name\"])\n",
    "plt.ylabel('District Name')\n",
    "plt.yticks(fontsize= 5)\n",
    "plt.xlabel('Count')\n",
    "plt.title('Bus Stop Count by District')"
   ]
  },
  {
   "cell_type": "code",
   "execution_count": 43,
   "id": "889d3f5e",
   "metadata": {},
   "outputs": [
    {
     "ename": "ModuleNotFoundError",
     "evalue": "No module named 'folium'",
     "output_type": "error",
     "traceback": [
      "\u001b[1;31m---------------------------------------------------------------------------\u001b[0m",
      "\u001b[1;31mModuleNotFoundError\u001b[0m                       Traceback (most recent call last)",
      "\u001b[1;32m~\\AppData\\Local\\Temp\\ipykernel_28540\\18811252.py\u001b[0m in \u001b[0;36m<module>\u001b[1;34m\u001b[0m\n\u001b[0;32m      1\u001b[0m \u001b[1;32mimport\u001b[0m \u001b[0mpandas\u001b[0m \u001b[1;32mas\u001b[0m \u001b[0mpd\u001b[0m\u001b[1;33m\u001b[0m\u001b[1;33m\u001b[0m\u001b[0m\n\u001b[1;32m----> 2\u001b[1;33m \u001b[1;32mimport\u001b[0m \u001b[0mfolium\u001b[0m\u001b[1;33m\u001b[0m\u001b[1;33m\u001b[0m\u001b[0m\n\u001b[0m\u001b[0;32m      3\u001b[0m \u001b[1;33m\u001b[0m\u001b[0m\n\u001b[0;32m      4\u001b[0m \u001b[0mdf\u001b[0m \u001b[1;33m=\u001b[0m \u001b[0mpd\u001b[0m\u001b[1;33m.\u001b[0m\u001b[0mread_csv\u001b[0m\u001b[1;33m(\u001b[0m\u001b[1;34m\"transports.csv\"\u001b[0m\u001b[1;33m,\u001b[0m\u001b[0msep\u001b[0m\u001b[1;33m=\u001b[0m\u001b[1;34m\",\"\u001b[0m\u001b[1;33m)\u001b[0m\u001b[1;33m\u001b[0m\u001b[1;33m\u001b[0m\u001b[0m\n\u001b[0;32m      5\u001b[0m \u001b[1;33m\u001b[0m\u001b[0m\n",
      "\u001b[1;31mModuleNotFoundError\u001b[0m: No module named 'folium'"
     ]
    }
   ],
   "source": [
    "import pandas as pd\n",
    "import folium\n",
    "\n",
    "df = pd.read_csv(\"transports.csv\",sep=\",\")\n",
    "\n",
    "def get_marker_color(transport) -> str:\n",
    "    if transport == \"Underground\":\n",
    "        return \"blue\"\n",
    "    elif transport == \"Railway (FGC)\":\n",
    "        return \"green\"\n",
    "    elif transport == \"Tram\":\n",
    "        return \"orange\"\n",
    "    else:\n",
    "        return \"red\"\n",
    "\n",
    "coords = df[[\"Transport\",\"Latitude\",\"Longitude\",\"Station\"]]\n",
    "city_map = folium.Map(location=[41.3851, 2.1734], zoom_start=12)\n",
    "\n",
    "for index,row in coords.iterrows():\n",
    "    mcolor = get_marker_color(row[\"Transport\"])\n",
    "    folium.Marker(location=[row[\"Latitude\"],row[\"Longitude\"]],\n",
    "                  popup=row[\"Station\"], icon=folium.Icon(color=mcolor),).add_to(city_map)\n",
    "\n",
    "city_map.save(\"city_map.html\")"
   ]
  },
  {
   "cell_type": "code",
   "execution_count": null,
   "id": "0f3f7255",
   "metadata": {},
   "outputs": [],
   "source": []
  }
 ],
 "metadata": {
  "kernelspec": {
   "display_name": "Python 3 (ipykernel)",
   "language": "python",
   "name": "python3"
  },
  "language_info": {
   "codemirror_mode": {
    "name": "ipython",
    "version": 3
   },
   "file_extension": ".py",
   "mimetype": "text/x-python",
   "name": "python",
   "nbconvert_exporter": "python",
   "pygments_lexer": "ipython3",
   "version": "3.9.13"
  }
 },
 "nbformat": 4,
 "nbformat_minor": 5
}
